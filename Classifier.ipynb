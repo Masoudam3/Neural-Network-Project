{
 "cells": [
  {
   "cell_type": "markdown",
   "metadata": {},
   "source": [
    "## ALL-Classifier\n",
    "### A Fast and Efficient CNN Model for B-ALL Diagnosis and its Subtypes Classification using Peripheral Blood Smear Images.\n"
   ]
  },
  {
   "cell_type": "code",
   "execution_count": 1,
   "metadata": {},
   "outputs": [
    {
     "ename": "ModuleNotFoundError",
     "evalue": "No module named 'cv2'",
     "output_type": "error",
     "traceback": [
      "\u001b[0;31m---------------------------------------------------------------------------\u001b[0m",
      "\u001b[0;31mModuleNotFoundError\u001b[0m                       Traceback (most recent call last)",
      "\u001b[0;32m<ipython-input-1-faafc9c8e137>\u001b[0m in \u001b[0;36m<module>\u001b[0;34m\u001b[0m\n\u001b[1;32m      3\u001b[0m \u001b[0;32mimport\u001b[0m \u001b[0mnumpy\u001b[0m \u001b[0;32mas\u001b[0m \u001b[0mnp\u001b[0m\u001b[0;34m\u001b[0m\u001b[0;34m\u001b[0m\u001b[0m\n\u001b[1;32m      4\u001b[0m \u001b[0;32mimport\u001b[0m \u001b[0mos\u001b[0m\u001b[0;34m\u001b[0m\u001b[0;34m\u001b[0m\u001b[0m\n\u001b[0;32m----> 5\u001b[0;31m \u001b[0;32mimport\u001b[0m \u001b[0mcv2\u001b[0m\u001b[0;34m\u001b[0m\u001b[0;34m\u001b[0m\u001b[0m\n\u001b[0m\u001b[1;32m      6\u001b[0m \u001b[0;32mimport\u001b[0m \u001b[0mdatetime\u001b[0m\u001b[0;34m\u001b[0m\u001b[0;34m\u001b[0m\u001b[0m\n",
      "\u001b[0;31mModuleNotFoundError\u001b[0m: No module named 'cv2'"
     ]
    }
   ],
   "source": [
    "import tensorflow\n",
    "from tensorflow.keras.models import load_model\n",
    "import numpy as np\n",
    "import os\n",
    "import cv2\n",
    "import datetime\n"
   ]
  },
  {
   "cell_type": "code",
   "execution_count": null,
   "metadata": {},
   "outputs": [],
   "source": [
    "Classifier = load_model('./Models/model.h5')"
   ]
  },
  {
   "cell_type": "code",
   "execution_count": null,
   "metadata": {},
   "outputs": [],
   "source": [
    "Test_org = 'Test-images/WBC-Benign-001.jpg'\n",
    "\n",
    "light_orange = (168, 50, 50)\n",
    "dark_orange = (182, 255, 255)\n",
    "\n",
    "image = cv2.imread(Test_org)\n",
    "image = cv2.cvtColor(image, cv2.COLOR_RGB2HSV)\n",
    "mask = cv2.inRange(image, light_orange, dark_orange)\n",
    "result = cv2.bitwise_and(image, image, mask=mask)\n",
    "result = cv2.resize(result, (224, 224))\n",
    "image_name = Test_org.split(sep='/')[-1]\n",
    "Test_seg = f'Test-images/Seg-{image_name}'\n",
    "cv2.imwrite(Test_seg, result)"
   ]
  },
  {
   "cell_type": "code",
   "execution_count": null,
   "metadata": {},
   "outputs": [],
   "source": [
    "import sys\n",
    "from PIL import Image\n",
    "categories = ['Benign', 'Early', 'Pre', 'Pro']\n",
    "\n",
    "def input_samples (TEST):\n",
    "    test_img = tensorflow.keras.preprocessing.image.load_img(TEST, target_size=(224, 224))\n",
    "    x = tensorflow.keras.preprocessing.image.img_to_array(test_img)\n",
    "    x = np.expand_dims(x, axis=0)\n",
    "    x = x/255\n",
    "    images = np.vstack([x])\n",
    "    return images\n",
    "\n",
    "Test_org = input_samples(Test_org)\n",
    "Test_seg = input_samples(Test_seg)\n",
    "\n",
    "start = datetime.datetime.now()\n",
    "\n",
    "classes = Classifier.predict([Test_org,Test_seg])\n",
    "classes = np.argmax(classes,axis=1)\n",
    "print ('Class:', categories[int(classes)])\n",
    "\n",
    "finish = datetime.datetime.now()\n",
    "elapsed = finish - start\n",
    "print ('________________\\n')\n",
    "print ('Total time elapsed: ', elapsed)"
   ]
  },
  {
   "cell_type": "code",
   "execution_count": null,
   "metadata": {},
   "outputs": [],
   "source": [
    "Test_seg"
   ]
  },
  {
   "cell_type": "code",
   "execution_count": null,
   "metadata": {},
   "outputs": [],
   "source": []
  }
 ],
 "metadata": {
  "interpreter": {
   "hash": "a915a04f9617a1f56baeb6828cf3b7c56645d3d3b107e37cd09c8584001b1666"
  },
  "kernelspec": {
   "display_name": "Python 3",
   "language": "python",
   "name": "python3"
  },
  "language_info": {
   "codemirror_mode": {
    "name": "ipython",
    "version": 3
   },
   "file_extension": ".py",
   "mimetype": "text/x-python",
   "name": "python",
   "nbconvert_exporter": "python",
   "pygments_lexer": "ipython3",
   "version": "3.8.10"
  }
 },
 "nbformat": 4,
 "nbformat_minor": 4
}
